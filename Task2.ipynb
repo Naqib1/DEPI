{
 "cells": [
  {
   "cell_type": "code",
   "execution_count": 4,
   "metadata": {},
   "outputs": [
    {
     "name": "stdout",
     "output_type": "stream",
     "text": [
      "1 can't devide 2,3,5\n",
      "2 devide 2\n",
      "3 devide 3\n",
      "4 devide 2\n",
      "5 devide 5\n",
      "6 devide 2\n",
      "7 can't devide 2,3,5\n",
      "8 devide 2\n",
      "9 devide 3\n",
      "10 devide 2\n"
     ]
    }
   ],
   "source": [
    "end=int(input(\"please enter number:\"))\n",
    "for i in range(1,end+1):\n",
    "    if i%2==0:\n",
    "        print(f\"{i} devide 2\")\n",
    "    elif i%3==0:\n",
    "        print(f\"{i} devide 3\")\n",
    "    elif i%5==0:\n",
    "        print(f\"{i} devide 5\")\n",
    "    else:\n",
    "        print(f\"{i} can't devide 2,3,5\")"
   ]
  },
  {
   "cell_type": "code",
   "execution_count": 10,
   "metadata": {},
   "outputs": [
    {
     "name": "stdout",
     "output_type": "stream",
     "text": [
      "3Fizz\n",
      "5Buzz\n",
      "6Fizz\n",
      "9Fizz\n",
      "10Buzz\n",
      "12Fizz\n",
      "15FizzBuzz\n",
      "18Fizz\n",
      "20Buzz\n",
      "21Fizz\n",
      "24Fizz\n",
      "25Buzz\n",
      "27Fizz\n",
      "30FizzBuzz\n",
      "33Fizz\n",
      "35Buzz\n",
      "36Fizz\n",
      "39Fizz\n",
      "40Buzz\n",
      "42Fizz\n",
      "45FizzBuzz\n",
      "48Fizz\n",
      "50Buzz\n",
      "51Fizz\n",
      "54Fizz\n",
      "55Buzz\n",
      "57Fizz\n",
      "60FizzBuzz\n",
      "63Fizz\n",
      "65Buzz\n",
      "66Fizz\n",
      "69Fizz\n",
      "70Buzz\n",
      "72Fizz\n",
      "75FizzBuzz\n",
      "78Fizz\n",
      "80Buzz\n",
      "81Fizz\n",
      "84Fizz\n",
      "85Buzz\n",
      "87Fizz\n",
      "90FizzBuzz\n",
      "93Fizz\n",
      "95Buzz\n",
      "96Fizz\n",
      "99Fizz\n",
      "100Buzz\n"
     ]
    }
   ],
   "source": [
    "for i in range(1,101):\n",
    "    if i%3==0 and i%5==0:\n",
    "        print(f\"{i}FizzBuzz\")\n",
    "    elif i%3==0:\n",
    "        print(f\"{i}Fizz\")\n",
    "    elif i%5==0:\n",
    "        print(f\"{i}Buzz\")"
   ]
  },
  {
   "cell_type": "code",
   "execution_count": 9,
   "metadata": {},
   "outputs": [
    {
     "name": "stdout",
     "output_type": "stream",
     "text": [
      "3Fizz\n",
      "5Buzz\n",
      "6Fizz\n",
      "9Fizz\n",
      "10Buzz\n",
      "12Fizz\n",
      "15FizzBuzz\n",
      "18Fizz\n",
      "20Buzz\n",
      "21Fizz\n",
      "24Fizz\n",
      "25Buzz\n",
      "27Fizz\n",
      "30FizzBuzz\n",
      "33Fizz\n",
      "35Buzz\n",
      "36Fizz\n",
      "39Fizz\n",
      "40Buzz\n",
      "42Fizz\n",
      "45FizzBuzz\n",
      "48Fizz\n",
      "50Buzz\n",
      "51Fizz\n",
      "54Fizz\n",
      "55Buzz\n",
      "57Fizz\n",
      "60FizzBuzz\n",
      "63Fizz\n",
      "65Buzz\n",
      "66Fizz\n",
      "69Fizz\n",
      "70Buzz\n",
      "72Fizz\n",
      "75FizzBuzz\n",
      "78Fizz\n",
      "80Buzz\n",
      "81Fizz\n",
      "84Fizz\n",
      "85Buzz\n",
      "87Fizz\n",
      "90FizzBuzz\n",
      "93Fizz\n",
      "95Buzz\n",
      "96Fizz\n",
      "99Fizz\n",
      "100Buzz\n"
     ]
    }
   ],
   "source": [
    "i=1\n",
    "while(i<=100):\n",
    "    if i%3==0 and i%5==0:\n",
    "        print(f\"{i}FizzBuzz\")\n",
    "    elif i%3==0:\n",
    "        print(f\"{i}Fizz\")\n",
    "    elif i%5==0:\n",
    "        print(f\"{i}Buzz\")\n",
    "    i+=1"
   ]
  },
  {
   "cell_type": "code",
   "execution_count": null,
   "metadata": {},
   "outputs": [],
   "source": [
    "def Function_Abslut(num):\n",
    "    if num>=0:\n",
    "        return num\n",
    "    elif num<0:\n",
    "        return -num"
   ]
  },
  {
   "cell_type": "code",
   "execution_count": 13,
   "metadata": {},
   "outputs": [
    {
     "data": {
      "text/plain": [
       "5"
      ]
     },
     "execution_count": 13,
     "metadata": {},
     "output_type": "execute_result"
    }
   ],
   "source": [
    "x=int(input(\"Enter number\"))\n",
    "Function_Abslut(x)"
   ]
  },
  {
   "cell_type": "code",
   "execution_count": 32,
   "metadata": {},
   "outputs": [],
   "source": [
    "x=\"global\"\n",
    "def foo():\n",
    "    global x\n",
    "    print(x)\n",
    "    x=\"local\"\n",
    "    print(x)"
   ]
  },
  {
   "cell_type": "code",
   "execution_count": 33,
   "metadata": {},
   "outputs": [
    {
     "name": "stdout",
     "output_type": "stream",
     "text": [
      "global\n",
      "local\n"
     ]
    }
   ],
   "source": [
    "foo()"
   ]
  },
  {
   "cell_type": "code",
   "execution_count": 4,
   "metadata": {},
   "outputs": [
    {
     "name": "stdout",
     "output_type": "stream",
     "text": [
      "Value must be Range !=0\n"
     ]
    }
   ],
   "source": [
    "try:\n",
    "    value=int(input(\"Enter numper:\"))\n",
    "    print(10/value)\n",
    "except:\n",
    "    print(\"Value must be Range !=0\")"
   ]
  },
  {
   "cell_type": "code",
   "execution_count": 5,
   "metadata": {},
   "outputs": [
    {
     "ename": "ZeroDivisionError",
     "evalue": "division by zero",
     "output_type": "error",
     "traceback": [
      "\u001b[1;31m---------------------------------------------------------------------------\u001b[0m",
      "\u001b[1;31mZeroDivisionError\u001b[0m                         Traceback (most recent call last)",
      "Cell \u001b[1;32mIn[5], line 2\u001b[0m\n\u001b[0;32m      1\u001b[0m value\u001b[38;5;241m=\u001b[39m\u001b[38;5;28mint\u001b[39m(\u001b[38;5;28minput\u001b[39m(\u001b[38;5;124m\"\u001b[39m\u001b[38;5;124mEnter numper:\u001b[39m\u001b[38;5;124m\"\u001b[39m))\n\u001b[1;32m----> 2\u001b[0m \u001b[38;5;28mprint\u001b[39m(\u001b[38;5;241;43m10\u001b[39;49m\u001b[38;5;241;43m/\u001b[39;49m\u001b[43mvalue\u001b[49m)\n",
      "\u001b[1;31mZeroDivisionError\u001b[0m: division by zero"
     ]
    }
   ],
   "source": [
    "value=int(input(\"Enter numper:\"))\n",
    "print(10/value)"
   ]
  },
  {
   "cell_type": "code",
   "execution_count": 1,
   "metadata": {},
   "outputs": [],
   "source": [
    "import Task as t"
   ]
  },
  {
   "cell_type": "code",
   "execution_count": 2,
   "metadata": {},
   "outputs": [],
   "source": [
    "import Task as t"
   ]
  },
  {
   "cell_type": "code",
   "execution_count": 3,
   "metadata": {},
   "outputs": [
    {
     "name": "stdout",
     "output_type": "stream",
     "text": [
      "my name's mostafa \n",
      "\n"
     ]
    }
   ],
   "source": [
    "t.File_Read(\"Session.txt\")"
   ]
  },
  {
   "cell_type": "code",
   "execution_count": 1,
   "metadata": {},
   "outputs": [
    {
     "name": "stdout",
     "output_type": "stream",
     "text": [
      "Result: 100.0\n"
     ]
    }
   ],
   "source": [
    "import calc"
   ]
  }
 ],
 "metadata": {
  "kernelspec": {
   "display_name": "Python 3",
   "language": "python",
   "name": "python3"
  },
  "language_info": {
   "codemirror_mode": {
    "name": "ipython",
    "version": 3
   },
   "file_extension": ".py",
   "mimetype": "text/x-python",
   "name": "python",
   "nbconvert_exporter": "python",
   "pygments_lexer": "ipython3",
   "version": "3.12.7"
  }
 },
 "nbformat": 4,
 "nbformat_minor": 2
}
