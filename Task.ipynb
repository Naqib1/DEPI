{
 "cells": [
  {
   "cell_type": "markdown",
   "metadata": {},
   "source": [
    "List"
   ]
  },
  {
   "cell_type": "code",
   "execution_count": 1,
   "metadata": {},
   "outputs": [
    {
     "name": "stdout",
     "output_type": "stream",
     "text": [
      "[5, 1, 2, 3, 4, 4]\n",
      "[3, 1, 2, 3, 4, 4]\n",
      "[3, 1, 2, 3, 4, 4, 10]\n",
      "['zezoo', 3, 1, 2, 3, 4, 4, 10]\n",
      "[3, 1, 2, 3, 4, 4, 10]\n",
      "[3, 1, 2, 3, 4, 4]\n",
      "[3, 1, 2, 3, 4, 4]\n",
      "[]\n",
      "1\n",
      "3\n",
      "None\n",
      "None\n",
      "['m', 5, 4, 3, 2]\n",
      "['m', 4]\n"
     ]
    }
   ],
   "source": [
    "list=[5,1,2,3,4,4]\n",
    "print(list)\n",
    "#moutable\n",
    "list[0]=3\n",
    "print(list)\n",
    "list.append(10)\n",
    "print(list)\n",
    "list.insert(0,\"zezoo\")\n",
    "print(list)\n",
    "list.remove(\"zezoo\")\n",
    "print(list)\n",
    "list.pop()\n",
    "print(list)\n",
    "list3=list.copy()\n",
    "print(list3)\n",
    "list.clear()\n",
    "print(list)\n",
    "list_4=[1,2,3,4,5]\n",
    "print(list_4.count(4))\n",
    "print(list_4.index(4))\n",
    "x=list_4.extend(\"m\")\n",
    "y=list_4.reverse()\n",
    "print(x)\n",
    "print(y)\n",
    "print(list_4[:-1])\n",
    "print(list_4[:4:2])"
   ]
  },
  {
   "cell_type": "markdown",
   "metadata": {},
   "source": [
    "Tuple"
   ]
  },
  {
   "cell_type": "code",
   "execution_count": 2,
   "metadata": {},
   "outputs": [
    {
     "name": "stdout",
     "output_type": "stream",
     "text": [
      "(1, 2, 3, 4, 'zezoo', 4, 6, 8, 9)\n",
      "(1, 2, 3, 4, 'zezoo', 4, 6, 8, 9, 1, 2, 3, 4, 'zezoo', 4, 6, 8, 9)\n",
      "5\n",
      "(2, 3)\n",
      "1\n",
      "1\n"
     ]
    },
    {
     "data": {
      "text/plain": [
       "'\\nnot moutable\\ntpl[0]=10\\nprint(tpl)\\n'"
      ]
     },
     "execution_count": 2,
     "metadata": {},
     "output_type": "execute_result"
    }
   ],
   "source": [
    "tpl=(1,2,3,4,\"zezoo\")\n",
    "tpl2=(4,6,8,9)\n",
    "tpl3=tpl+tpl2\n",
    "tpl4=tpl3*2\n",
    "print(tpl3)\n",
    "print(tpl4)\n",
    "count=len(tpl)\n",
    "print(count)\n",
    "print(tpl[1:3])\n",
    "print(tpl.index(2))\n",
    "print(tpl.count(4))\n",
    "\"\"\"\n",
    "not moutable\n",
    "tpl[0]=10\n",
    "print(tpl)\n",
    "\"\"\""
   ]
  }
 ],
 "metadata": {
  "kernelspec": {
   "display_name": "Python 3",
   "language": "python",
   "name": "python3"
  },
  "language_info": {
   "codemirror_mode": {
    "name": "ipython",
    "version": 3
   },
   "file_extension": ".py",
   "mimetype": "text/x-python",
   "name": "python",
   "nbconvert_exporter": "python",
   "pygments_lexer": "ipython3",
   "version": "3.12.8"
  }
 },
 "nbformat": 4,
 "nbformat_minor": 2
}
